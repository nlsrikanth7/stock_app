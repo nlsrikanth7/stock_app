{
 "cells": [
  {
   "cell_type": "code",
   "execution_count": 5,
   "metadata": {},
   "outputs": [],
   "source": [
    "import os"
   ]
  },
  {
   "cell_type": "code",
   "execution_count": 6,
   "metadata": {},
   "outputs": [
    {
     "data": {
      "text/plain": [
       "'/Users/shrikanthnallapati/Projects/stock_app/research'"
      ]
     },
     "execution_count": 6,
     "metadata": {},
     "output_type": "execute_result"
    }
   ],
   "source": [
    "%pwd"
   ]
  },
  {
   "cell_type": "code",
   "execution_count": 7,
   "metadata": {},
   "outputs": [],
   "source": [
    "os.chdir('../')"
   ]
  },
  {
   "cell_type": "code",
   "execution_count": 8,
   "metadata": {},
   "outputs": [
    {
     "data": {
      "text/plain": [
       "'/Users/shrikanthnallapati/Projects/stock_app'"
      ]
     },
     "execution_count": 8,
     "metadata": {},
     "output_type": "execute_result"
    }
   ],
   "source": [
    "%pwd"
   ]
  },
  {
   "cell_type": "code",
   "execution_count": 19,
   "metadata": {},
   "outputs": [],
   "source": [
    "import yfinance as yf \n",
    "import pandas as pd\n",
    "import datetime as dt\n",
    "import pandas_datareader as pdr\n",
    "import pandas_datareader.data as pdrd\n",
    "\n"
   ]
  },
  {
   "cell_type": "code",
   "execution_count": 9,
   "metadata": {},
   "outputs": [
    {
     "name": "stdout",
     "output_type": "stream",
     "text": [
      "[*********************100%%**********************]  1 of 1 completed\n"
     ]
    },
    {
     "data": {
      "text/html": [
       "<div>\n",
       "<style scoped>\n",
       "    .dataframe tbody tr th:only-of-type {\n",
       "        vertical-align: middle;\n",
       "    }\n",
       "\n",
       "    .dataframe tbody tr th {\n",
       "        vertical-align: top;\n",
       "    }\n",
       "\n",
       "    .dataframe thead th {\n",
       "        text-align: right;\n",
       "    }\n",
       "</style>\n",
       "<table border=\"1\" class=\"dataframe\">\n",
       "  <thead>\n",
       "    <tr style=\"text-align: right;\">\n",
       "      <th></th>\n",
       "      <th>Open</th>\n",
       "      <th>High</th>\n",
       "      <th>Low</th>\n",
       "      <th>Close</th>\n",
       "      <th>Adj Close</th>\n",
       "      <th>Volume</th>\n",
       "    </tr>\n",
       "    <tr>\n",
       "      <th>Date</th>\n",
       "      <th></th>\n",
       "      <th></th>\n",
       "      <th></th>\n",
       "      <th></th>\n",
       "      <th></th>\n",
       "      <th></th>\n",
       "    </tr>\n",
       "  </thead>\n",
       "  <tbody>\n",
       "    <tr>\n",
       "      <th>1980-12-12</th>\n",
       "      <td>0.128348</td>\n",
       "      <td>0.128906</td>\n",
       "      <td>0.128348</td>\n",
       "      <td>0.128348</td>\n",
       "      <td>0.099450</td>\n",
       "      <td>469033600</td>\n",
       "    </tr>\n",
       "    <tr>\n",
       "      <th>1980-12-15</th>\n",
       "      <td>0.122210</td>\n",
       "      <td>0.122210</td>\n",
       "      <td>0.121652</td>\n",
       "      <td>0.121652</td>\n",
       "      <td>0.094261</td>\n",
       "      <td>175884800</td>\n",
       "    </tr>\n",
       "    <tr>\n",
       "      <th>1980-12-16</th>\n",
       "      <td>0.113281</td>\n",
       "      <td>0.113281</td>\n",
       "      <td>0.112723</td>\n",
       "      <td>0.112723</td>\n",
       "      <td>0.087343</td>\n",
       "      <td>105728000</td>\n",
       "    </tr>\n",
       "    <tr>\n",
       "      <th>1980-12-17</th>\n",
       "      <td>0.115513</td>\n",
       "      <td>0.116071</td>\n",
       "      <td>0.115513</td>\n",
       "      <td>0.115513</td>\n",
       "      <td>0.089504</td>\n",
       "      <td>86441600</td>\n",
       "    </tr>\n",
       "    <tr>\n",
       "      <th>1980-12-18</th>\n",
       "      <td>0.118862</td>\n",
       "      <td>0.119420</td>\n",
       "      <td>0.118862</td>\n",
       "      <td>0.118862</td>\n",
       "      <td>0.092099</td>\n",
       "      <td>73449600</td>\n",
       "    </tr>\n",
       "  </tbody>\n",
       "</table>\n",
       "</div>"
      ],
      "text/plain": [
       "                Open      High       Low     Close  Adj Close     Volume\n",
       "Date                                                                    \n",
       "1980-12-12  0.128348  0.128906  0.128348  0.128348   0.099450  469033600\n",
       "1980-12-15  0.122210  0.122210  0.121652  0.121652   0.094261  175884800\n",
       "1980-12-16  0.113281  0.113281  0.112723  0.112723   0.087343  105728000\n",
       "1980-12-17  0.115513  0.116071  0.115513  0.115513   0.089504   86441600\n",
       "1980-12-18  0.118862  0.119420  0.118862  0.118862   0.092099   73449600"
      ]
     },
     "execution_count": 9,
     "metadata": {},
     "output_type": "execute_result"
    }
   ],
   "source": [
    "data = yf.download('AAPL')\n",
    "data.head()"
   ]
  },
  {
   "cell_type": "code",
   "execution_count": 10,
   "metadata": {},
   "outputs": [],
   "source": [
    "data.to_csv('Data/AAPL.csv')"
   ]
  },
  {
   "cell_type": "code",
   "execution_count": 1,
   "metadata": {},
   "outputs": [],
   "source": [
    "# stock_list = {'TSLA', 'AAPL', 'AMZN', 'NVDA', 'MSFT', 'NFLX', 'META', 'GOOG', 'RIVN'}\n",
    "\n",
    "# for stock in stock_list:\n",
    "#     try:\n",
    "#         data= yf.download(f'{stock}')\n",
    "#         data.to_csv(f'Data/{stock}.csv')\n",
    "#     except Exception as e:\n",
    "#         print(f'{stock} ==> {e}')\n",
    "        \n"
   ]
  },
  {
   "cell_type": "code",
   "execution_count": 11,
   "metadata": {},
   "outputs": [
    {
     "data": {
      "text/plain": [
       "(datetime.datetime(2020, 1, 1, 0, 0),\n",
       " datetime.datetime(2023, 10, 13, 8, 55, 7, 186994))"
      ]
     },
     "execution_count": 11,
     "metadata": {},
     "output_type": "execute_result"
    }
   ],
   "source": [
    "yf.pdr_override()\n",
    "start = dt.datetime(2023,10,10)\n",
    "end = dt.datetime.now()\n",
    "start, end"
   ]
  },
  {
   "cell_type": "code",
   "execution_count": 12,
   "metadata": {},
   "outputs": [
    {
     "name": "stdout",
     "output_type": "stream",
     "text": [
      "[*********************100%%**********************]  1 of 1 completed\n",
      "[*********************100%%**********************]  1 of 1 completed\n",
      "[*********************100%%**********************]  1 of 1 completed\n",
      "[*********************100%%**********************]  1 of 1 completed\n",
      "[*********************100%%**********************]  1 of 1 completed\n",
      "[*********************100%%**********************]  1 of 1 completed\n",
      "[*********************100%%**********************]  1 of 1 completed\n",
      "[*********************100%%**********************]  1 of 1 completed\n",
      "[*********************100%%**********************]  1 of 1 completed\n"
     ]
    }
   ],
   "source": [
    "stock_list = {'DE', 'VRTX'}\n",
    "\n",
    "for stock in stock_list:\n",
    "    try:\n",
    "        \n",
    "        data= pdrd.get_data_yahoo(f'{stock}', start, end, )\n",
    "        data.to_csv(f'Data/{stock}.csv')\n",
    "    except Exception as e:\n",
    "        print(f'{stock} ==> {e}')"
   ]
  },
  {
   "cell_type": "code",
   "execution_count": 24,
   "metadata": {},
   "outputs": [
    {
     "data": {
      "text/plain": [
       "GDP    25029.116\n",
       "Name: 2022-01-01 00:00:00, dtype: float64"
      ]
     },
     "execution_count": 24,
     "metadata": {},
     "output_type": "execute_result"
    }
   ],
   "source": [
    "# Getting GDP and Inflation data\n",
    "gdp = pdr.DataReader('GDP', 'fred', start, end)\n",
    "gdp.loc['2022-01-01']\n"
   ]
  },
  {
   "cell_type": "code",
   "execution_count": 25,
   "metadata": {},
   "outputs": [
    {
     "data": {
      "text/html": [
       "<div>\n",
       "<style scoped>\n",
       "    .dataframe tbody tr th:only-of-type {\n",
       "        vertical-align: middle;\n",
       "    }\n",
       "\n",
       "    .dataframe tbody tr th {\n",
       "        vertical-align: top;\n",
       "    }\n",
       "\n",
       "    .dataframe thead th {\n",
       "        text-align: right;\n",
       "    }\n",
       "</style>\n",
       "<table border=\"1\" class=\"dataframe\">\n",
       "  <thead>\n",
       "    <tr style=\"text-align: right;\">\n",
       "      <th></th>\n",
       "      <th>CPIAUCSL</th>\n",
       "      <th>CPILFESL</th>\n",
       "    </tr>\n",
       "    <tr>\n",
       "      <th>DATE</th>\n",
       "      <th></th>\n",
       "      <th></th>\n",
       "    </tr>\n",
       "  </thead>\n",
       "  <tbody>\n",
       "    <tr>\n",
       "      <th>2020-01-01</th>\n",
       "      <td>259.037</td>\n",
       "      <td>266.626</td>\n",
       "    </tr>\n",
       "    <tr>\n",
       "      <th>2020-02-01</th>\n",
       "      <td>259.248</td>\n",
       "      <td>267.283</td>\n",
       "    </tr>\n",
       "    <tr>\n",
       "      <th>2020-03-01</th>\n",
       "      <td>258.124</td>\n",
       "      <td>267.090</td>\n",
       "    </tr>\n",
       "    <tr>\n",
       "      <th>2020-04-01</th>\n",
       "      <td>256.092</td>\n",
       "      <td>265.771</td>\n",
       "    </tr>\n",
       "    <tr>\n",
       "      <th>2020-05-01</th>\n",
       "      <td>255.868</td>\n",
       "      <td>265.574</td>\n",
       "    </tr>\n",
       "  </tbody>\n",
       "</table>\n",
       "</div>"
      ],
      "text/plain": [
       "            CPIAUCSL  CPILFESL\n",
       "DATE                          \n",
       "2020-01-01   259.037   266.626\n",
       "2020-02-01   259.248   267.283\n",
       "2020-03-01   258.124   267.090\n",
       "2020-04-01   256.092   265.771\n",
       "2020-05-01   255.868   265.574"
      ]
     },
     "execution_count": 25,
     "metadata": {},
     "output_type": "execute_result"
    }
   ],
   "source": [
    "#Inflation data \n",
    "inflation = pdr.DataReader(['CPIAUCSL', 'CPILFESL'], 'fred', start, end)\n",
    "inflation.head()"
   ]
  },
  {
   "cell_type": "code",
   "execution_count": 30,
   "metadata": {},
   "outputs": [],
   "source": [
    "# Nasdaq_data= pdr.nasdaq_trader.get_nasdaq_symbols(retry_count=3, timeout=30,pause=None)\n",
    "# Nasdaq_data.head()"
   ]
  },
  {
   "cell_type": "code",
   "execution_count": null,
   "metadata": {},
   "outputs": [],
   "source": [
    "# worldbank_data = pdr.wb.WorldBankReader(symbols=None, countries=None, start=None, end=None, freq=None, retry_count=3,pause=0.1, session=None, errors='warn')"
   ]
  },
  {
   "cell_type": "code",
   "execution_count": 54,
   "metadata": {},
   "outputs": [
    {
     "name": "stdout",
     "output_type": "stream",
     "text": [
      "[*********************100%%**********************]  1 of 1 completed\n",
      "[*********************100%%**********************]  1 of 1 completed\n"
     ]
    }
   ],
   "source": [
    "import yfinance as yf\n",
    "from datetime import datetime\n",
    "\n",
    "# stock_data = yf.download(tickers=\"DE\", period=\"5d\", interval=\"1m\")\n",
    "\n",
    "stock_list = {'COST', 'INTU'}\n",
    "\n",
    "for stock in stock_list:\n",
    "    try:\n",
    "    \n",
    "        # data= pdrd.get_data_yahoo(f'{stock}', start, end, )\n",
    "        data = yf.download(tickers=f'{stock}', period=\"1d\", interval=\"1m\")\n",
    "        data.to_csv(f'Data/{stock}.csv')\n",
    "    except Exception as e:\n",
    "        print(f'{stock} ==> {e}')"
   ]
  },
  {
   "cell_type": "code",
   "execution_count": 32,
   "metadata": {},
   "outputs": [
    {
     "data": {
      "text/html": [
       "<div>\n",
       "<style scoped>\n",
       "    .dataframe tbody tr th:only-of-type {\n",
       "        vertical-align: middle;\n",
       "    }\n",
       "\n",
       "    .dataframe tbody tr th {\n",
       "        vertical-align: top;\n",
       "    }\n",
       "\n",
       "    .dataframe thead th {\n",
       "        text-align: right;\n",
       "    }\n",
       "</style>\n",
       "<table border=\"1\" class=\"dataframe\">\n",
       "  <thead>\n",
       "    <tr style=\"text-align: right;\">\n",
       "      <th></th>\n",
       "      <th>Open</th>\n",
       "      <th>High</th>\n",
       "      <th>Low</th>\n",
       "      <th>Close</th>\n",
       "      <th>Adj Close</th>\n",
       "      <th>Volume</th>\n",
       "    </tr>\n",
       "    <tr>\n",
       "      <th>Datetime</th>\n",
       "      <th></th>\n",
       "      <th></th>\n",
       "      <th></th>\n",
       "      <th></th>\n",
       "      <th></th>\n",
       "      <th></th>\n",
       "    </tr>\n",
       "  </thead>\n",
       "  <tbody>\n",
       "    <tr>\n",
       "      <th>2023-10-10 09:30:00-04:00</th>\n",
       "      <td>386.299988</td>\n",
       "      <td>386.299988</td>\n",
       "      <td>386.130005</td>\n",
       "      <td>386.230011</td>\n",
       "      <td>386.230011</td>\n",
       "      <td>15696</td>\n",
       "    </tr>\n",
       "    <tr>\n",
       "      <th>2023-10-10 09:31:00-04:00</th>\n",
       "      <td>386.190002</td>\n",
       "      <td>386.980011</td>\n",
       "      <td>386.190002</td>\n",
       "      <td>386.260010</td>\n",
       "      <td>386.260010</td>\n",
       "      <td>6519</td>\n",
       "    </tr>\n",
       "    <tr>\n",
       "      <th>2023-10-10 09:32:00-04:00</th>\n",
       "      <td>386.380005</td>\n",
       "      <td>386.920013</td>\n",
       "      <td>386.225006</td>\n",
       "      <td>386.269989</td>\n",
       "      <td>386.269989</td>\n",
       "      <td>9553</td>\n",
       "    </tr>\n",
       "    <tr>\n",
       "      <th>2023-10-10 09:33:00-04:00</th>\n",
       "      <td>386.489990</td>\n",
       "      <td>386.635895</td>\n",
       "      <td>386.190002</td>\n",
       "      <td>386.635895</td>\n",
       "      <td>386.635895</td>\n",
       "      <td>3666</td>\n",
       "    </tr>\n",
       "    <tr>\n",
       "      <th>2023-10-10 09:34:00-04:00</th>\n",
       "      <td>386.869995</td>\n",
       "      <td>387.040009</td>\n",
       "      <td>386.619995</td>\n",
       "      <td>386.769989</td>\n",
       "      <td>386.769989</td>\n",
       "      <td>5926</td>\n",
       "    </tr>\n",
       "  </tbody>\n",
       "</table>\n",
       "</div>"
      ],
      "text/plain": [
       "                                 Open        High  ...   Adj Close  Volume\n",
       "Datetime                                           ...                    \n",
       "2023-10-10 09:30:00-04:00  386.299988  386.299988  ...  386.230011   15696\n",
       "2023-10-10 09:31:00-04:00  386.190002  386.980011  ...  386.260010    6519\n",
       "2023-10-10 09:32:00-04:00  386.380005  386.920013  ...  386.269989    9553\n",
       "2023-10-10 09:33:00-04:00  386.489990  386.635895  ...  386.635895    3666\n",
       "2023-10-10 09:34:00-04:00  386.869995  387.040009  ...  386.769989    5926\n",
       "\n",
       "[5 rows x 6 columns]"
      ]
     },
     "execution_count": 32,
     "metadata": {},
     "output_type": "execute_result"
    }
   ],
   "source": [
    "stock_data.head()"
   ]
  },
  {
   "cell_type": "code",
   "execution_count": 49,
   "metadata": {},
   "outputs": [
    {
     "data": {
      "text/html": [
       "<div>\n",
       "<style scoped>\n",
       "    .dataframe tbody tr th:only-of-type {\n",
       "        vertical-align: middle;\n",
       "    }\n",
       "\n",
       "    .dataframe tbody tr th {\n",
       "        vertical-align: top;\n",
       "    }\n",
       "\n",
       "    .dataframe thead th {\n",
       "        text-align: right;\n",
       "    }\n",
       "</style>\n",
       "<table border=\"1\" class=\"dataframe\">\n",
       "  <thead>\n",
       "    <tr style=\"text-align: right;\">\n",
       "      <th></th>\n",
       "      <th>Datetime</th>\n",
       "      <th>Open</th>\n",
       "      <th>High</th>\n",
       "      <th>Low</th>\n",
       "      <th>Close</th>\n",
       "      <th>Adj Close</th>\n",
       "      <th>Volume</th>\n",
       "    </tr>\n",
       "  </thead>\n",
       "  <tbody>\n",
       "    <tr>\n",
       "      <th>0</th>\n",
       "      <td>2023-10-10 09:30:00-04:00</td>\n",
       "      <td>386.299988</td>\n",
       "      <td>386.299988</td>\n",
       "      <td>386.130005</td>\n",
       "      <td>386.230011</td>\n",
       "      <td>386.230011</td>\n",
       "      <td>15696</td>\n",
       "    </tr>\n",
       "    <tr>\n",
       "      <th>1</th>\n",
       "      <td>2023-10-10 09:31:00-04:00</td>\n",
       "      <td>386.190002</td>\n",
       "      <td>386.980011</td>\n",
       "      <td>386.190002</td>\n",
       "      <td>386.260010</td>\n",
       "      <td>386.260010</td>\n",
       "      <td>6519</td>\n",
       "    </tr>\n",
       "    <tr>\n",
       "      <th>2</th>\n",
       "      <td>2023-10-10 09:32:00-04:00</td>\n",
       "      <td>386.380005</td>\n",
       "      <td>386.920013</td>\n",
       "      <td>386.225006</td>\n",
       "      <td>386.269989</td>\n",
       "      <td>386.269989</td>\n",
       "      <td>9553</td>\n",
       "    </tr>\n",
       "    <tr>\n",
       "      <th>3</th>\n",
       "      <td>2023-10-10 09:33:00-04:00</td>\n",
       "      <td>386.489990</td>\n",
       "      <td>386.635895</td>\n",
       "      <td>386.190002</td>\n",
       "      <td>386.635895</td>\n",
       "      <td>386.635895</td>\n",
       "      <td>3666</td>\n",
       "    </tr>\n",
       "    <tr>\n",
       "      <th>4</th>\n",
       "      <td>2023-10-10 09:34:00-04:00</td>\n",
       "      <td>386.869995</td>\n",
       "      <td>387.040009</td>\n",
       "      <td>386.619995</td>\n",
       "      <td>386.769989</td>\n",
       "      <td>386.769989</td>\n",
       "      <td>5926</td>\n",
       "    </tr>\n",
       "  </tbody>\n",
       "</table>\n",
       "</div>"
      ],
      "text/plain": [
       "                    Datetime        Open  ...   Adj Close  Volume\n",
       "0  2023-10-10 09:30:00-04:00  386.299988  ...  386.230011   15696\n",
       "1  2023-10-10 09:31:00-04:00  386.190002  ...  386.260010    6519\n",
       "2  2023-10-10 09:32:00-04:00  386.380005  ...  386.269989    9553\n",
       "3  2023-10-10 09:33:00-04:00  386.489990  ...  386.635895    3666\n",
       "4  2023-10-10 09:34:00-04:00  386.869995  ...  386.769989    5926\n",
       "\n",
       "[5 rows x 7 columns]"
      ]
     },
     "execution_count": 49,
     "metadata": {},
     "output_type": "execute_result"
    }
   ],
   "source": [
    "DE = pd.read_csv(\"Data/DE.csv\")\n",
    "VRTX = pd.read_csv(\"Data/VRTX.csv\")\n",
    "DE.head()"
   ]
  },
  {
   "cell_type": "code",
   "execution_count": 50,
   "metadata": {},
   "outputs": [
    {
     "data": {
      "text/html": [
       "<div>\n",
       "<style scoped>\n",
       "    .dataframe tbody tr th:only-of-type {\n",
       "        vertical-align: middle;\n",
       "    }\n",
       "\n",
       "    .dataframe tbody tr th {\n",
       "        vertical-align: top;\n",
       "    }\n",
       "\n",
       "    .dataframe thead th {\n",
       "        text-align: right;\n",
       "    }\n",
       "</style>\n",
       "<table border=\"1\" class=\"dataframe\">\n",
       "  <thead>\n",
       "    <tr style=\"text-align: right;\">\n",
       "      <th></th>\n",
       "      <th>Datetime</th>\n",
       "      <th>Open</th>\n",
       "      <th>High</th>\n",
       "      <th>Low</th>\n",
       "      <th>Close</th>\n",
       "      <th>Adj Close</th>\n",
       "      <th>Volume</th>\n",
       "    </tr>\n",
       "  </thead>\n",
       "  <tbody>\n",
       "    <tr>\n",
       "      <th>0</th>\n",
       "      <td>2023-10-10 09:30:00-04:00</td>\n",
       "      <td>354.459991</td>\n",
       "      <td>354.459991</td>\n",
       "      <td>352.625000</td>\n",
       "      <td>352.625000</td>\n",
       "      <td>352.625000</td>\n",
       "      <td>20131</td>\n",
       "    </tr>\n",
       "    <tr>\n",
       "      <th>1</th>\n",
       "      <td>2023-10-10 09:31:00-04:00</td>\n",
       "      <td>353.309998</td>\n",
       "      <td>353.543488</td>\n",
       "      <td>353.089996</td>\n",
       "      <td>353.089996</td>\n",
       "      <td>353.089996</td>\n",
       "      <td>2915</td>\n",
       "    </tr>\n",
       "    <tr>\n",
       "      <th>2</th>\n",
       "      <td>2023-10-10 09:32:00-04:00</td>\n",
       "      <td>353.359985</td>\n",
       "      <td>354.160004</td>\n",
       "      <td>353.359985</td>\n",
       "      <td>354.160004</td>\n",
       "      <td>354.160004</td>\n",
       "      <td>2961</td>\n",
       "    </tr>\n",
       "    <tr>\n",
       "      <th>3</th>\n",
       "      <td>2023-10-10 09:34:00-04:00</td>\n",
       "      <td>355.369995</td>\n",
       "      <td>355.369995</td>\n",
       "      <td>355.369995</td>\n",
       "      <td>355.369995</td>\n",
       "      <td>355.369995</td>\n",
       "      <td>443</td>\n",
       "    </tr>\n",
       "    <tr>\n",
       "      <th>4</th>\n",
       "      <td>2023-10-10 09:35:00-04:00</td>\n",
       "      <td>355.980011</td>\n",
       "      <td>355.980011</td>\n",
       "      <td>355.399994</td>\n",
       "      <td>355.399994</td>\n",
       "      <td>355.399994</td>\n",
       "      <td>941</td>\n",
       "    </tr>\n",
       "  </tbody>\n",
       "</table>\n",
       "</div>"
      ],
      "text/plain": [
       "                    Datetime        Open  ...   Adj Close  Volume\n",
       "0  2023-10-10 09:30:00-04:00  354.459991  ...  352.625000   20131\n",
       "1  2023-10-10 09:31:00-04:00  353.309998  ...  353.089996    2915\n",
       "2  2023-10-10 09:32:00-04:00  353.359985  ...  354.160004    2961\n",
       "3  2023-10-10 09:34:00-04:00  355.369995  ...  355.369995     443\n",
       "4  2023-10-10 09:35:00-04:00  355.980011  ...  355.399994     941\n",
       "\n",
       "[5 rows x 7 columns]"
      ]
     },
     "execution_count": 50,
     "metadata": {},
     "output_type": "execute_result"
    }
   ],
   "source": [
    "VRTX.head()"
   ]
  },
  {
   "cell_type": "code",
   "execution_count": 55,
   "metadata": {},
   "outputs": [],
   "source": [
    "COST = pd.read_csv(\"Data/COST.csv\")\n",
    "INTU = pd.read_csv(\"Data/INTU.csv\")"
   ]
  },
  {
   "cell_type": "code",
   "execution_count": 41,
   "metadata": {},
   "outputs": [],
   "source": [
    "import matplotlib.pyplot as plt\n",
    "import seaborn as sns; sns.set()"
   ]
  },
  {
   "cell_type": "code",
   "execution_count": 51,
   "metadata": {},
   "outputs": [
    {
     "data": {
      "text/html": [
       "<div>\n",
       "<style scoped>\n",
       "    .dataframe tbody tr th:only-of-type {\n",
       "        vertical-align: middle;\n",
       "    }\n",
       "\n",
       "    .dataframe tbody tr th {\n",
       "        vertical-align: top;\n",
       "    }\n",
       "\n",
       "    .dataframe thead th {\n",
       "        text-align: right;\n",
       "    }\n",
       "</style>\n",
       "<table border=\"1\" class=\"dataframe\">\n",
       "  <thead>\n",
       "    <tr style=\"text-align: right;\">\n",
       "      <th></th>\n",
       "      <th>index</th>\n",
       "      <th>Datetime</th>\n",
       "      <th>Open</th>\n",
       "      <th>High</th>\n",
       "      <th>Low</th>\n",
       "      <th>Close</th>\n",
       "      <th>Adj Close</th>\n",
       "      <th>Volume</th>\n",
       "    </tr>\n",
       "  </thead>\n",
       "  <tbody>\n",
       "    <tr>\n",
       "      <th>0</th>\n",
       "      <td>0</td>\n",
       "      <td>2023-10-10 09:30:00-04:00</td>\n",
       "      <td>386.299988</td>\n",
       "      <td>386.299988</td>\n",
       "      <td>386.130005</td>\n",
       "      <td>386.230011</td>\n",
       "      <td>386.230011</td>\n",
       "      <td>15696</td>\n",
       "    </tr>\n",
       "    <tr>\n",
       "      <th>1</th>\n",
       "      <td>1</td>\n",
       "      <td>2023-10-10 09:31:00-04:00</td>\n",
       "      <td>386.190002</td>\n",
       "      <td>386.980011</td>\n",
       "      <td>386.190002</td>\n",
       "      <td>386.260010</td>\n",
       "      <td>386.260010</td>\n",
       "      <td>6519</td>\n",
       "    </tr>\n",
       "    <tr>\n",
       "      <th>2</th>\n",
       "      <td>2</td>\n",
       "      <td>2023-10-10 09:32:00-04:00</td>\n",
       "      <td>386.380005</td>\n",
       "      <td>386.920013</td>\n",
       "      <td>386.225006</td>\n",
       "      <td>386.269989</td>\n",
       "      <td>386.269989</td>\n",
       "      <td>9553</td>\n",
       "    </tr>\n",
       "    <tr>\n",
       "      <th>3</th>\n",
       "      <td>3</td>\n",
       "      <td>2023-10-10 09:33:00-04:00</td>\n",
       "      <td>386.489990</td>\n",
       "      <td>386.635895</td>\n",
       "      <td>386.190002</td>\n",
       "      <td>386.635895</td>\n",
       "      <td>386.635895</td>\n",
       "      <td>3666</td>\n",
       "    </tr>\n",
       "    <tr>\n",
       "      <th>4</th>\n",
       "      <td>4</td>\n",
       "      <td>2023-10-10 09:34:00-04:00</td>\n",
       "      <td>386.869995</td>\n",
       "      <td>387.040009</td>\n",
       "      <td>386.619995</td>\n",
       "      <td>386.769989</td>\n",
       "      <td>386.769989</td>\n",
       "      <td>5926</td>\n",
       "    </tr>\n",
       "  </tbody>\n",
       "</table>\n",
       "</div>"
      ],
      "text/plain": [
       "   index                   Datetime        Open  ...       Close   Adj Close  Volume\n",
       "0      0  2023-10-10 09:30:00-04:00  386.299988  ...  386.230011  386.230011   15696\n",
       "1      1  2023-10-10 09:31:00-04:00  386.190002  ...  386.260010  386.260010    6519\n",
       "2      2  2023-10-10 09:32:00-04:00  386.380005  ...  386.269989  386.269989    9553\n",
       "3      3  2023-10-10 09:33:00-04:00  386.489990  ...  386.635895  386.635895    3666\n",
       "4      4  2023-10-10 09:34:00-04:00  386.869995  ...  386.769989  386.769989    5926\n",
       "\n",
       "[5 rows x 8 columns]"
      ]
     },
     "execution_count": 51,
     "metadata": {},
     "output_type": "execute_result"
    }
   ],
   "source": [
    "DE.reset_index(inplace=True)\n",
    "VRTX.reset_index(inplace=True)\n",
    "DE.head()"
   ]
  },
  {
   "cell_type": "code",
   "execution_count": 53,
   "metadata": {},
   "outputs": [
    {
     "data": {
      "text/html": [
       "<div>\n",
       "<style scoped>\n",
       "    .dataframe tbody tr th:only-of-type {\n",
       "        vertical-align: middle;\n",
       "    }\n",
       "\n",
       "    .dataframe tbody tr th {\n",
       "        vertical-align: top;\n",
       "    }\n",
       "\n",
       "    .dataframe thead th {\n",
       "        text-align: right;\n",
       "    }\n",
       "</style>\n",
       "<table border=\"1\" class=\"dataframe\">\n",
       "  <thead>\n",
       "    <tr style=\"text-align: right;\">\n",
       "      <th></th>\n",
       "      <th>index</th>\n",
       "      <th>Datetime</th>\n",
       "      <th>Open</th>\n",
       "      <th>High</th>\n",
       "      <th>Low</th>\n",
       "      <th>Close</th>\n",
       "      <th>Adj Close</th>\n",
       "      <th>Volume</th>\n",
       "    </tr>\n",
       "  </thead>\n",
       "  <tbody>\n",
       "    <tr>\n",
       "      <th>1850</th>\n",
       "      <td>1850</td>\n",
       "      <td>2023-10-16 15:55:00-04:00</td>\n",
       "      <td>391.329987</td>\n",
       "      <td>391.329987</td>\n",
       "      <td>391.019989</td>\n",
       "      <td>391.179993</td>\n",
       "      <td>391.179993</td>\n",
       "      <td>13330</td>\n",
       "    </tr>\n",
       "    <tr>\n",
       "      <th>1851</th>\n",
       "      <td>1851</td>\n",
       "      <td>2023-10-16 15:56:00-04:00</td>\n",
       "      <td>391.119995</td>\n",
       "      <td>391.119995</td>\n",
       "      <td>390.929993</td>\n",
       "      <td>391.010010</td>\n",
       "      <td>391.010010</td>\n",
       "      <td>13366</td>\n",
       "    </tr>\n",
       "    <tr>\n",
       "      <th>1852</th>\n",
       "      <td>1852</td>\n",
       "      <td>2023-10-16 15:57:00-04:00</td>\n",
       "      <td>390.970001</td>\n",
       "      <td>390.970001</td>\n",
       "      <td>390.790009</td>\n",
       "      <td>390.929993</td>\n",
       "      <td>390.929993</td>\n",
       "      <td>11108</td>\n",
       "    </tr>\n",
       "    <tr>\n",
       "      <th>1853</th>\n",
       "      <td>1853</td>\n",
       "      <td>2023-10-16 15:58:00-04:00</td>\n",
       "      <td>390.950012</td>\n",
       "      <td>390.989990</td>\n",
       "      <td>390.799988</td>\n",
       "      <td>390.820007</td>\n",
       "      <td>390.820007</td>\n",
       "      <td>15165</td>\n",
       "    </tr>\n",
       "    <tr>\n",
       "      <th>1854</th>\n",
       "      <td>1854</td>\n",
       "      <td>2023-10-16 15:59:00-04:00</td>\n",
       "      <td>390.809998</td>\n",
       "      <td>390.899994</td>\n",
       "      <td>390.320007</td>\n",
       "      <td>390.329987</td>\n",
       "      <td>390.329987</td>\n",
       "      <td>38153</td>\n",
       "    </tr>\n",
       "  </tbody>\n",
       "</table>\n",
       "</div>"
      ],
      "text/plain": [
       "      index                   Datetime  ...   Adj Close  Volume\n",
       "1850   1850  2023-10-16 15:55:00-04:00  ...  391.179993   13330\n",
       "1851   1851  2023-10-16 15:56:00-04:00  ...  391.010010   13366\n",
       "1852   1852  2023-10-16 15:57:00-04:00  ...  390.929993   11108\n",
       "1853   1853  2023-10-16 15:58:00-04:00  ...  390.820007   15165\n",
       "1854   1854  2023-10-16 15:59:00-04:00  ...  390.329987   38153\n",
       "\n",
       "[5 rows x 8 columns]"
      ]
     },
     "execution_count": 53,
     "metadata": {},
     "output_type": "execute_result"
    }
   ],
   "source": [
    "DE.tail()"
   ]
  },
  {
   "cell_type": "code",
   "execution_count": 56,
   "metadata": {},
   "outputs": [
    {
     "data": {
      "text/plain": [
       "<Axes: xlabel='Datetime', ylabel='Close'>"
      ]
     },
     "execution_count": 56,
     "metadata": {},
     "output_type": "execute_result"
    },
    {
     "data": {
      "image/png": "[encoded data removed]",
      "text/plain": [
       "<Figure size 1400x1000 with 1 Axes>"
      ]
     },
     "metadata": {},
     "output_type": "display_data"
    }
   ],
   "source": [
    "plt.figure(figsize=(14,10))\n",
    "sns.set_style(\"ticks\")\n",
    "sns.lineplot(data=COST,x=\"Datetime\",y='Close',color='firebrick')\n",
    "sns.lineplot(data=INTU,x=\"Datetime\",y='Close',color='blue')\n",
    "# sns.despine()\n",
    "# plt.title(\"The Stock Price of DE\",size='x-large',color='blue')"
   ]
  }
 ],
 "metadata": {
  "kernelspec": {
   "display_name": "stockapp",
   "language": "python",
   "name": "python3"
  },
  "language_info": {
   "codemirror_mode": {
    "name": "ipython",
    "version": 3
   },
   "file_extension": ".py",
   "mimetype": "text/x-python",
   "name": "python",
   "nbconvert_exporter": "python",
   "pygments_lexer": "ipython3",
   "version": "3.11.1"
  },
  "orig_nbformat": 4
 },
 "nbformat": 4,
 "nbformat_minor": 2
}
