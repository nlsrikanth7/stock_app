{
 "cells": [
  {
   "cell_type": "code",
   "execution_count": 1,
   "metadata": {},
   "outputs": [],
   "source": [
    "import os"
   ]
  },
  {
   "cell_type": "code",
   "execution_count": 2,
   "metadata": {},
   "outputs": [
    {
     "data": {
      "text/plain": [
       "'/Users/shrikanthnallapati/Projects/stock_app/research'"
      ]
     },
     "execution_count": 2,
     "metadata": {},
     "output_type": "execute_result"
    }
   ],
   "source": [
    "%pwd"
   ]
  },
  {
   "cell_type": "code",
   "execution_count": 3,
   "metadata": {},
   "outputs": [],
   "source": [
    "os.chdir('../')"
   ]
  },
  {
   "cell_type": "code",
   "execution_count": 4,
   "metadata": {},
   "outputs": [
    {
     "data": {
      "text/plain": [
       "'/Users/shrikanthnallapati/Projects/stock_app'"
      ]
     },
     "execution_count": 4,
     "metadata": {},
     "output_type": "execute_result"
    }
   ],
   "source": [
    "%pwd"
   ]
  },
  {
   "cell_type": "code",
   "execution_count": 11,
   "metadata": {},
   "outputs": [
    {
     "name": "stdout",
     "output_type": "stream",
     "text": [
      "<mysql.connector.connection_cext.CMySQLConnection object at 0x1278ffd50>\n"
     ]
    }
   ],
   "source": [
    "import yfinance as yf\n",
    "from getpass import getpass\n",
    "from mysql.connector import connect, Error\n",
    "\n",
    "try:\n",
    "    with connect(\n",
    "        host = \"127.0.0.1\",\n",
    "        user = input(\"Enter Username: \"),\n",
    "        password = getpass('Enter password: '),\n",
    "    ) as connection:\n",
    "        print (connection)\n",
    "except Error as e:\n",
    "    print(e)"
   ]
  },
  {
   "cell_type": "code",
   "execution_count": 14,
   "metadata": {},
   "outputs": [
    {
     "ename": "OperationalError",
     "evalue": "MySQL Connection not available.",
     "output_type": "error",
     "traceback": [
      "\u001b[0;31m---------------------------------------------------------------------------\u001b[0m",
      "\u001b[0;31mOperationalError\u001b[0m                          Traceback (most recent call last)",
      "\u001b[1;32m/Users/shrikanthnallapati/Projects/stock_app/research/04_Create_Database.ipynb Cell 6\u001b[0m line \u001b[0;36m1\n\u001b[0;32m----> <a href='vscode-notebook-cell:/Users/shrikanthnallapati/Projects/stock_app/research/04_Create_Database.ipynb#W5sZmlsZQ%3D%3D?line=0'>1</a>\u001b[0m cursor \u001b[39m=\u001b[39m connection\u001b[39m.\u001b[39;49mcursor()\n\u001b[1;32m      <a href='vscode-notebook-cell:/Users/shrikanthnallapati/Projects/stock_app/research/04_Create_Database.ipynb#W5sZmlsZQ%3D%3D?line=1'>2</a>\u001b[0m cursor\u001b[39m.\u001b[39mexecute(\u001b[39m\"\u001b[39m\u001b[39mCREATE DATABASE stocks_db\u001b[39m\u001b[39m\"\u001b[39m)\n",
      "File \u001b[0;32m~/Projects/stock_app/stockapp/lib/python3.11/site-packages/mysql/connector/connection_cext.py:706\u001b[0m, in \u001b[0;36mCMySQLConnection.cursor\u001b[0;34m(self, buffered, raw, prepared, cursor_class, dictionary, named_tuple)\u001b[0m\n\u001b[1;32m    704\u001b[0m \u001b[39mself\u001b[39m\u001b[39m.\u001b[39mhandle_unread_result(prepared)\n\u001b[1;32m    705\u001b[0m \u001b[39mif\u001b[39;00m \u001b[39mnot\u001b[39;00m \u001b[39mself\u001b[39m\u001b[39m.\u001b[39mis_connected():\n\u001b[0;32m--> 706\u001b[0m     \u001b[39mraise\u001b[39;00m OperationalError(\u001b[39m\"\u001b[39m\u001b[39mMySQL Connection not available.\u001b[39m\u001b[39m\"\u001b[39m)\n\u001b[1;32m    707\u001b[0m \u001b[39mif\u001b[39;00m cursor_class \u001b[39mis\u001b[39;00m \u001b[39mnot\u001b[39;00m \u001b[39mNone\u001b[39;00m:\n\u001b[1;32m    708\u001b[0m     \u001b[39mif\u001b[39;00m \u001b[39mnot\u001b[39;00m \u001b[39missubclass\u001b[39m(cursor_class, CMySQLCursor):\n",
      "\u001b[0;31mOperationalError\u001b[0m: MySQL Connection not available."
     ]
    }
   ],
   "source": [
    "\n",
    "cursor = connection.cursor()\n",
    "cursor.execute(\"CREATE DATABASE stocks_db\")"
   ]
  }
 ],
 "metadata": {
  "kernelspec": {
   "display_name": "stockapp",
   "language": "python",
   "name": "python3"
  },
  "language_info": {
   "codemirror_mode": {
    "name": "ipython",
    "version": 3
   },
   "file_extension": ".py",
   "mimetype": "text/x-python",
   "name": "python",
   "nbconvert_exporter": "python",
   "pygments_lexer": "ipython3",
   "version": "3.11.1"
  }
 },
 "nbformat": 4,
 "nbformat_minor": 2
}
