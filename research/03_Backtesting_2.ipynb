{
 "cells": [
  {
   "cell_type": "code",
   "execution_count": 3,
   "metadata": {},
   "outputs": [],
   "source": [
    "import warnings\n",
    "warnings. simplefilter(action='ignore', category=Warning)\n",
    "import pandas as pd\n",
    "import numpy as np\n",
    "from tabulate import tabulate"
   ]
  },
  {
   "cell_type": "code",
   "execution_count": 5,
   "metadata": {},
   "outputs": [],
   "source": [
    "def GoldenCrossverSignal(name):\n",
    "    path = f'../Data/{name}.csv'\n",
    "    data = pd.read_csv(path, parse_dates=['Date'], index_col='Date')\n",
    "    data['Prev_Close'] = data.Close.shift(1)\n",
    "    data['20_SMA'] = data.Prev_Close.rolling(window=20, min_periods=1).mean()\n",
    "    data['50_SMA'] = data.Prev_Close.rolling(window=50, min_periods=1).mean()\n",
    "    data['Signal'] = 0\n",
    "    data['Signal'] = np.where(data['20_SMA'] > data['50_SMA'], 1, 0)\n",
    "    data['Position'] = data.Signal.diff()\n",
    "    df_pos = data[(data['Position'] == 1) | (data['Position'] == -1)].copy()\n",
    "    df_pos['Position'] = df_pos['Position'].apply(lambda x: 'Buy' if x == 1 else 'Sell')\n",
    "    return df_pos\n",
    "\n"
   ]
  },
  {
   "cell_type": "code",
   "execution_count": 6,
   "metadata": {},
   "outputs": [],
   "source": [
    "\n",
    "data = GoldenCrossverSignal('META')"
   ]
  },
  {
   "cell_type": "code",
   "execution_count": 7,
   "metadata": {},
   "outputs": [],
   "source": [
    "required_df = data[(data.index >= data[data['Position'] == 'Buy'].index[0]) & (data.index <= data[data['Position'] == 'Sell'].index[-1])]"
   ]
  },
  {
   "cell_type": "code",
   "execution_count": 8,
   "metadata": {},
   "outputs": [
    {
     "data": {
      "text/plain": [
       "Timestamp('2023-08-31 00:00:00')"
      ]
     },
     "execution_count": 8,
     "metadata": {},
     "output_type": "execute_result"
    }
   ],
   "source": [
    "data[data['Position'] == 'Sell'].index[-1]"
   ]
  },
  {
   "cell_type": "code",
   "execution_count": 11,
   "metadata": {},
   "outputs": [],
   "source": [
    "# Name, Entry TIme, Entry PRice, QTY, Exit Time, Exit Price\n",
    "class Backtest:\n",
    "    def __init__(self):\n",
    "        self.columns = ['Equity Name', 'Trade', 'Entry Time', 'Entry Price', 'Exit Time', 'Exit Price', 'Quantity', 'Position Size', 'PNL', '% PNL']\n",
    "        self.backtesting = pd.DataFrame(columns=self.columns)\n",
    "\n",
    "    def buy(self, equity_name, entry_time, entry_price, qty):\n",
    "        self.trade_log = dict(zip(self.columns, [None] * len(self.columns)))\n",
    "        self.trade_log['Trade'] = 'Long Open'\n",
    "        self.trade_log['Quantity'] = qty\n",
    "        self.trade_log['Position Size'] = round(self.trade_log['Quantity'] * entry_price, 3)\n",
    "        self.trade_log['Equity Name'] = equity_name\n",
    "        self.trade_log['Entry Time'] = entry_time\n",
    "        self.trade_log['Entry Price'] = round(entry_price, 2)\n",
    "\n",
    "    def sell(self, exit_time, exit_price, exit_type, charge):\n",
    "        self.trade_log['Trade'] = 'Long Closed'\n",
    "        self.trade_log['Exit Time'] = exit_time\n",
    "        self.trade_log['Exit Price'] = round(exit_price, 2)\n",
    "        self.trade_log['Exit Type'] = exit_type\n",
    "        self.trade_log['PNL'] = round((self.trade_log['Exit Price'] - self.trade_log['Entry Price']) * self.trade_log['Quantity'] - charge, 3)\n",
    "        self.trade_log['% PNL'] = round((self.trade_log['PNL'] / self.trade_log['Position Size']) * 100, 3)\n",
    "        self.trade_log['Holding Period'] = exit_time - self.trade_log['Entry Time']\n",
    "        self.backtesting = self.backtesting._append(self.trade_log, ignore_index=True)\n",
    "    \n",
    "    def stats(self):\n",
    "        df = self.backtesting\n",
    "        parameters = ['Total Trade Scripts', 'Total Trade', 'PNL',  'Winners', 'Losers', 'Win Ratio','Total Profit', 'Total Loss', 'Average Loss per Trade', 'Average Profit per Trade', 'Average PNL Per Trade', 'Risk Reward']\n",
    "        total_traded_scripts = len(df['Equity Name'].unique())\n",
    "        total_trade = len(df.index)\n",
    "        pnl = df.PNL.sum()\n",
    "        winners = len(df[df.PNL > 0])\n",
    "        loosers = len(df[df.PNL <= 0])\n",
    "        win_ratio = str(round((winners/total_trade) * 100, 2)) + '%'\n",
    "        total_profit = round(df[df.PNL > 0].PNL.sum(), 2)\n",
    "        total_loss  = round(df[df.PNL <= 0].PNL.sum(), 2)\n",
    "        average_loss_per_trade = round(total_loss/loosers, 2)\n",
    "        average_profit_per_trade = round(total_profit/winners, 2)\n",
    "        average_pnl_per_trade = round(pnl/total_trade, 2)\n",
    "        risk_reward = f'1:{-1 * round(average_profit_per_trade/average_loss_per_trade, 2)}'\n",
    "        data_points = [total_traded_scripts,total_trade,pnl,winners, loosers, win_ratio, total_profit, total_loss, average_loss_per_trade, average_profit_per_trade, average_pnl_per_trade, risk_reward]\n",
    "        data = list(zip(parameters,data_points ))\n",
    "        print(tabulate(data, ['Parameters', 'Values'], tablefmt='psql'))"
   ]
  },
  {
   "cell_type": "code",
   "execution_count": 12,
   "metadata": {},
   "outputs": [],
   "source": [
    "bt = Backtest()\n",
    "capital = 50000\n",
    "scripts = ['AAPL','AMZN','TSLA', 'RIVN', 'NVDA', 'NFLX', 'MSFT', 'META', 'GOOG']\n",
    "for stock in scripts:\n",
    "    data = GoldenCrossverSignal(stock)\n",
    "    required_df = data[(data.index >= data[data['Position'] == 'Buy'].index[0]) & (data.index <= data[data['Position'] == 'Sell'].index[-1])]\n",
    "    for index, data in required_df.iterrows():\n",
    "        if(data.Position == 'Buy'):\n",
    "            qty = capital // data.Open\n",
    "            bt.buy(stock, index, data.Open, qty)\n",
    "        else:\n",
    "            bt.sell(index, data.Open, 'Exit Trigger', 0)"
   ]
  },
  {
   "cell_type": "code",
   "execution_count": 13,
   "metadata": {},
   "outputs": [],
   "source": [
    "df = bt.backtesting"
   ]
  },
  {
   "cell_type": "code",
   "execution_count": 14,
   "metadata": {},
   "outputs": [],
   "source": [
    "bt.backtesting.to_csv('Backtest.csv')"
   ]
  },
  {
   "cell_type": "code",
   "execution_count": 15,
   "metadata": {},
   "outputs": [
    {
     "name": "stdout",
     "output_type": "stream",
     "text": [
      "+--------------------------+------------+\n",
      "| Parameters               | Values     |\n",
      "|--------------------------+------------|\n",
      "| Total Trade Scripts      | 9          |\n",
      "| Total Trade              | 526        |\n",
      "| PNL                      | 2781461.65 |\n",
      "| Winners                  | 261        |\n",
      "| Losers                   | 265        |\n",
      "| Win Ratio                | 49.62%     |\n",
      "| Total Profit             | 3936658.65 |\n",
      "| Total Loss               | -1155197.0 |\n",
      "| Average Loss per Trade   | -4359.23   |\n",
      "| Average Profit per Trade | 15082.98   |\n",
      "| Average PNL Per Trade    | 5287.95    |\n",
      "| Risk Reward              | 1:3.46     |\n",
      "+--------------------------+------------+\n"
     ]
    }
   ],
   "source": [
    "bt.stats()"
   ]
  }
 ],
 "metadata": {
  "kernelspec": {
   "display_name": "stockapp",
   "language": "python",
   "name": "python3"
  },
  "language_info": {
   "codemirror_mode": {
    "name": "ipython",
    "version": 3
   },
   "file_extension": ".py",
   "mimetype": "text/x-python",
   "name": "python",
   "nbconvert_exporter": "python",
   "pygments_lexer": "ipython3",
   "version": "3.11.1"
  },
  "orig_nbformat": 4
 },
 "nbformat": 4,
 "nbformat_minor": 2
}
