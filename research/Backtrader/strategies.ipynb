{
 "cells": [
  {
   "cell_type": "markdown",
   "metadata": {},
   "source": [
    "# Momentum Strategy \n",
    "How to define resistance and assign it to Stop loss or take profit \n",
    "eg, assign previous/resistance low to stop loss"
   ]
  },
  {
   "cell_type": "code",
   "execution_count": null,
   "metadata": {},
   "outputs": [],
   "source": [
    "def next(self):\n",
    "        if self.order:\n",
    "            return\n",
    "        \n",
    "        if not self.position:\n",
    "            if self.dataclose[-2]>self.dataclose[-1]:\n",
    "                self.order = self.buy()\n",
    "               \n",
    "        else:\n",
    "            take_profit_price = self.buyprice * (1.0 + self.take_profit)\n",
    "            stop_loss_price = self.buyprice * (1.0 - self.stop_loss)\n",
    "\n",
    "            if (self.dataclose[-2]<self.dataclose[-1]) or (self.dataclose[0]>=take_profit_price) or (self.dataclose[0]<=stop_loss_price):\n",
    "                self.order = self.sell()"
   ]
  },
  {
   "cell_type": "markdown",
   "metadata": {},
   "source": [
    "# RSI Strategy "
   ]
  },
  {
   "cell_type": "code",
   "execution_count": null,
   "metadata": {},
   "outputs": [],
   "source": [
    "\n",
    "class TestStrategy(bt.Strategy):\n",
    "    lines =('rsi',)\n",
    "    params = (\n",
    "        ('rsi_period', 14),\n",
    "        ('rsi_high', 70),\n",
    "        ('rsi_low', 30),\n",
    "    )\n",
    "    def __init__(self, take_profit, stop_loss):\n",
    "        .....\n",
    "        #Indicators \n",
    "        self.rsi = bt.indicators.RSI_EMA(self.dataclose, period = self.params.rsi_period)\n",
    "\n",
    "def next(self):\n",
    "        if self.order:\n",
    "            return\n",
    "        \n",
    "        if not self.position:\n",
    "            if self.rsi<self.params.rsi_low:\n",
    "                self.order = self.buy()\n",
    "               \n",
    "        else:\n",
    "            take_profit_price = self.buyprice * (1.0 + self.take_profit)\n",
    "            stop_loss_price = self.buyprice * (1.0 - self.stop_loss)\n",
    "\n",
    "            if (self.rsi>self.params.rsi_high) or (self.dataclose[0]>=take_profit_price) or (self.dataclose[0]<=stop_loss_price):\n",
    "                self.order = self.sell()"
   ]
  },
  {
   "cell_type": "markdown",
   "metadata": {},
   "source": [
    "# MACD (Pending)"
   ]
  },
  {
   "cell_type": "code",
   "execution_count": null,
   "metadata": {},
   "outputs": [],
   "source": [
    "from backtrader.indicators import EMA\n",
    "\n",
    "class MACD(Indicator):\n",
    "    lines = ('macd', 'signal', 'histo',)\n",
    "    params = (('period_me1', 12), ('period_me2', 26), ('period_signal', 9),)\n",
    "\n",
    "    def __init__(self):\n",
    "        me1 = EMA(self.data, period=self.p.period_me1)\n",
    "        me2 = EMA(self.data, period=self.p.period_me2)\n",
    "        self.l.macd = me1 - me2\n",
    "        self.l.signal = EMA(self.l.macd, period=self.p.period_signal)\n",
    "        self.l.histo = self.l.macd - self.l.signal"
   ]
  },
  {
   "cell_type": "markdown",
   "metadata": {},
   "source": [
    "# Doji (Pending)"
   ]
  },
  {
   "cell_type": "code",
   "execution_count": null,
   "metadata": {},
   "outputs": [],
   "source": [
    "class TestStrategy(bt.Strategy):\n",
    "    lines = ('doji',) #, to consider it as a list, else it will think as a string.\n",
    "    params = (\n",
    "        ('tolerance', 0.05),\n",
    "    )\n",
    "\n",
    "    def __init__(self, take_profit, stop_loss):\n",
    "        self.take_profit = take_profit\n",
    "        self.stop_loss = stop_loss\n",
    "        \n",
    "        self.dataclose = self.datas[0].close\n",
    "        self.open = self.datas[0].open\n",
    "        \n",
    "        self.buyprice = None\n",
    "        self.sellprice = None\n",
    "        self.order = None\n",
    "\n",
    "        #Indicators \n",
    "        self.rsi = bt.indicators.RSI_EMA(self.dataclose, period = self.params.rsi_period)\n",
    "\n",
    "\n",
    "\n",
    "    def next(self):\n",
    "        #red doji\n",
    "        if ((self.datas[0].close[0]*(1+(self.p.tolerance/100)))>self.datas[0].open[0]) and (self.datas[0].close[0]<self.datas[0].open[0]):\n",
    "            self.lines.doji[0] = self.datas[0].high[0]\n",
    "\n",
    "        #green doji\n",
    "        if ((self.datas[0].open[0]*(1+(self.p.tolerance/100)))>self.datas[0].close[0]) and (self.datas[0].close[0]>self.datas[0].open[0]):\n",
    "            self.lines.doji[0] = self.datas[0].high[0]\n",
    "\n",
    "        if self.order:\n",
    "            return\n",
    "        \n",
    "        if not self.position:\n",
    "            #Setting Order size = (total value/stock price)*.95\n",
    "            # orderSize = int((self.broker.getvalue()/self.datas[0].close[0])*0.95)\n",
    "            #buy condition\n",
    "            if (self.doji == True) and self.rsi<self.params.rsi_low:\n",
    "                self.order = self.buy()\n",
    "                # self.order = self.buy(size=orderSize)\n",
    "        else:\n",
    "            take_profit_price = self.buyprice * (1.0 + self.take_profit)\n",
    "            stop_loss_price = self.buyprice * (1.0 - self.stop_loss)\n",
    "\n",
    "            if (self.rsi>self.params.rsi_high) or (self.dataclose[0]>=take_profit_price) or (self.dataclose[0]<=stop_loss_price):\n",
    "                self.order = self.sell()\n",
    "               "
   ]
  },
  {
   "cell_type": "markdown",
   "metadata": {},
   "source": [
    " # Doji + RSI "
   ]
  },
  {
   "cell_type": "code",
   "execution_count": null,
   "metadata": {},
   "outputs": [],
   "source": [
    "class TestStrategy(bt.Strategy):\n",
    "    lines = ('doji',) #, to consider it as a list, else it will think as a string.\n",
    "    params = (\n",
    "        ('tolerance', 0.05),\n",
    "        ('rsi_period', 14),\n",
    "        ('rsi_high', 70),\n",
    "        ('rsi_low', 30)\n",
    "    )\n",
    "\n",
    "    def next(self):\n",
    "        #red doji\n",
    "        if ((self.datas[0].close[0]*(1+(self.p.tolerance/100)))>self.datas[0].open[0]) and (self.datas[0].close[0]<self.datas[0].open[0]):\n",
    "            self.lines.doji[0] = self.datas[0].high[0]\n",
    "\n",
    "        #green doji\n",
    "        if ((self.datas[0].open[0]*(1+(self.p.tolerance/100)))>self.datas[0].close[0]) and (self.datas[0].close[0]>self.datas[0].open[0]):\n",
    "            self.lines.doji[0] = self.datas[0].high[0]\n",
    "\n",
    "        if self.order:\n",
    "            return\n",
    "        \n",
    "        if not self.position:\n",
    "            #Setting Order size = (total value/stock price)*.95\n",
    "            # orderSize = int((self.broker.getvalue()/self.datas[0].close[0])*0.95)\n",
    "            #buy condition\n",
    "            if (self.doji == True) and self.rsi<self.params.rsi_low:\n",
    "                self.order = self.buy()\n",
    "                # self.order = self.buy(size=orderSize)\n",
    "               \n",
    "        else:\n",
    "            take_profit_price = self.buyprice * (1.0 + self.take_profit)\n",
    "            stop_loss_price = self.buyprice * (1.0 - self.stop_loss)\n",
    "\n",
    "            if (self.rsi>self.params.rsi_high) or (self.dataclose[0]>=take_profit_price) or (self.dataclose[0]<=stop_loss_price):\n",
    "                self.order = self.sell()"
   ]
  },
  {
   "cell_type": "markdown",
   "metadata": {},
   "source": [
    "# Bollinger Bands "
   ]
  },
  {
   "cell_type": "markdown",
   "metadata": {},
   "source": [
    "# MACD + RSI + Bollinger Bands"
   ]
  },
  {
   "cell_type": "markdown",
   "metadata": {},
   "source": [
    "# ATR (Average True Value)"
   ]
  },
  {
   "cell_type": "markdown",
   "metadata": {},
   "source": [
    "# VWAP - Volume Weighted Average Price"
   ]
  },
  {
   "cell_type": "markdown",
   "metadata": {},
   "source": [
    "# Volatility"
   ]
  },
  {
   "cell_type": "markdown",
   "metadata": {},
   "source": [
    "# Momentum2"
   ]
  },
  {
   "cell_type": "markdown",
   "metadata": {},
   "source": [
    "# Liquidity"
   ]
  },
  {
   "cell_type": "markdown",
   "metadata": {},
   "source": [
    "# Simple Crossover"
   ]
  },
  {
   "cell_type": "markdown",
   "metadata": {},
   "source": [
    "# Golden Cross Over"
   ]
  }
 ],
 "metadata": {
  "kernelspec": {
   "display_name": "stockapp",
   "language": "python",
   "name": "python3"
  },
  "language_info": {
   "name": "python",
   "version": "3.11.1"
  }
 },
 "nbformat": 4,
 "nbformat_minor": 2
}
